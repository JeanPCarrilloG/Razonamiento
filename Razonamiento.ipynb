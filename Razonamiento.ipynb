{
 "cells": [
  {
   "cell_type": "markdown",
   "id": "34e7f183-73f1-4f1a-b595-f13f0d537173",
   "metadata": {
    "tags": []
   },
   "source": [
    "# **Razonamiento**"
   ]
  },
  {
   "cell_type": "markdown",
   "id": "04567896-d20c-414a-8cf0-9920ee6dbc56",
   "metadata": {},
   "source": [
    "---\n",
    "---"
   ]
  },
  {
   "cell_type": "markdown",
   "id": "2c829736-83a2-4d15-b809-60c37604994e",
   "metadata": {},
   "source": [
    "- Importacion de libreria logica razonamiento"
   ]
  },
  {
   "cell_type": "code",
   "execution_count": 1,
   "id": "6d50a9c6-5632-4936-99ed-67cad32908a3",
   "metadata": {},
   "outputs": [],
   "source": [
    "from logica_razonamiento import *"
   ]
  },
  {
   "cell_type": "markdown",
   "id": "a81df602-7d5a-447d-a815-70fd8d91de19",
   "metadata": {},
   "source": [
    "- Uso de clase razonamiento"
   ]
  },
  {
   "cell_type": "code",
   "execution_count": 2,
   "id": "8ee06b1d-10e1-4ea6-bddf-14ee15180ae4",
   "metadata": {},
   "outputs": [],
   "source": [
    "razonamiento = Razonamiento()"
   ]
  },
  {
   "cell_type": "code",
   "execution_count": 3,
   "id": "b12c2c73-0751-4526-9367-2ff74cee5c53",
   "metadata": {},
   "outputs": [],
   "source": [
    "def base_del_conocimiento(self):\n",
    "    formulas = [\n",
    "        \"¬fechas_iguales^fecha_texto_mayor^partes_del_dia_iguales^¬parte_del_dia_texto_mayor->origen_de_vuelo\",\n",
    "        \"¬fechas_iguales^fecha_texto_mayor^¬partes_del_dia_iguales^parte_del_dia_texto_mayor->origen_de_vuelo\",\n",
    "        \"¬fechas_iguales^fecha_texto_mayor^¬partes_del_dia_iguales^¬parte_del_dia_texto_mayor->origen_de_vuelo\",\n",
    "        \"¬fechas_iguales^¬fecha_texto_mayor^¬partes_del_dia_iguales^¬parte_del_dia_texto_mayor->origen_de_vuelo\",\n",
    "        \"¬fechas_iguales^¬fecha_texto_mayor^¬partes_del_dia_iguales^parte_del_dia_texto_mayor->destino_de_vuelo\",\n",
    "        \"¬fechas_iguales^¬fecha_texto_mayor^partes_del_dia_iguales^¬parte_del_dia_texto_mayor->destino_de_vuelo\",\n",
    "        \"fechas_iguales^¬fecha_texto_mayor^¬partes_del_dia_iguales^¬parte_del_dia_texto_mayor->destino_de_vuelo\",\n",
    "        \"fechas_iguales^¬fecha_texto_mayor^partes_del_dia_iguales^¬parte_del_dia_texto_mayor->destino_de_vuelo\",\n",
    "    ]\n",
    "    return(formulas)    \n",
    "setattr(Razonamiento, \"base_del_conocimiento\", base_del_conocimiento)"
   ]
  },
  {
   "cell_type": "code",
   "execution_count": 4,
   "id": "87555031-1f45-47cb-9efa-98d36d20a72e",
   "metadata": {},
   "outputs": [],
   "source": [
    "razonamiento.base = razonamiento.base_del_conocimiento()"
   ]
  },
  {
   "cell_type": "code",
   "execution_count": 5,
   "id": "78cc96f3-0a29-4f9f-83a1-04146f79ace0",
   "metadata": {},
   "outputs": [],
   "source": [
    "texto = \"Juan, quien siempre lleva su laptop consigo, tomó un vuelo de Bogotá a Medellı́n en la mañana del 11 de diciembre.\""
   ]
  },
  {
   "cell_type": "code",
   "execution_count": 6,
   "id": "78ca0ff4-8c50-4ef0-83ed-8e0e5dd35e1e",
   "metadata": {},
   "outputs": [],
   "source": [
    "pregunta = \"¿En qué ciudad está el laptop de Juan la noche del 10 de diciembre?\""
   ]
  },
  {
   "cell_type": "code",
   "execution_count": 7,
   "id": "0b3d2ab3-9b58-458a-85b4-c0a31e32c881",
   "metadata": {},
   "outputs": [],
   "source": [
    "razonamiento.entrada = (texto,pregunta)\n",
    "razonamiento.consulta = razonamiento.respuesta_perceptron()"
   ]
  },
  {
   "cell_type": "code",
   "execution_count": 8,
   "id": "767ea93e-8ca8-4538-89ec-902d669cf505",
   "metadata": {},
   "outputs": [
    {
     "data": {
      "text/plain": [
       "('Juan, quien siempre lleva su laptop consigo, tomó un vuelo de Bogotá a Medellı́n en la mañana del 11 de diciembre.',\n",
       " '¿En qué ciudad está el laptop de Juan la noche del 10 de diciembre?')"
      ]
     },
     "execution_count": 8,
     "metadata": {},
     "output_type": "execute_result"
    }
   ],
   "source": [
    "razonamiento.entrada"
   ]
  },
  {
   "cell_type": "code",
   "execution_count": 9,
   "id": "052e50ff-f7c1-46fc-9ece-a99b5eb5f27c",
   "metadata": {},
   "outputs": [
    {
     "data": {
      "text/plain": [
       "{'¬fechas_iguales^fecha_texto_mayor^partes_del_dia_iguales^¬parte_del_dia_texto_mayor': 'origen_de_vuelo',\n",
       " '¬fechas_iguales^fecha_texto_mayor^¬partes_del_dia_iguales^parte_del_dia_texto_mayor': 'origen_de_vuelo',\n",
       " '¬fechas_iguales^fecha_texto_mayor^¬partes_del_dia_iguales^¬parte_del_dia_texto_mayor': 'origen_de_vuelo',\n",
       " '¬fechas_iguales^¬fecha_texto_mayor^¬partes_del_dia_iguales^¬parte_del_dia_texto_mayor': 'origen_de_vuelo',\n",
       " '¬fechas_iguales^¬fecha_texto_mayor^¬partes_del_dia_iguales^parte_del_dia_texto_mayor': 'destino_de_vuelo',\n",
       " '¬fechas_iguales^¬fecha_texto_mayor^partes_del_dia_iguales^¬parte_del_dia_texto_mayor': 'destino_de_vuelo',\n",
       " 'fechas_iguales^¬fecha_texto_mayor^¬partes_del_dia_iguales^¬parte_del_dia_texto_mayor': 'destino_de_vuelo',\n",
       " 'fechas_iguales^¬fecha_texto_mayor^partes_del_dia_iguales^¬parte_del_dia_texto_mayor': 'destino_de_vuelo'}"
      ]
     },
     "execution_count": 9,
     "metadata": {},
     "output_type": "execute_result"
    }
   ],
   "source": [
    "razonamiento.regla()"
   ]
  },
  {
   "cell_type": "code",
   "execution_count": 10,
   "id": "6a79cc6c-6ffb-4def-a1c2-075f795866dc",
   "metadata": {},
   "outputs": [
    {
     "data": {
      "text/plain": [
       "(False, True, False, False)"
      ]
     },
     "execution_count": 10,
     "metadata": {},
     "output_type": "execute_result"
    }
   ],
   "source": [
    "razonamiento.perceptron()"
   ]
  },
  {
   "cell_type": "code",
   "execution_count": 11,
   "id": "dbbd18e1-bb93-403e-a9ca-01a12fc8b5fc",
   "metadata": {},
   "outputs": [
    {
     "data": {
      "text/plain": [
       "'¬fechas_iguales^fecha_texto_mayor^¬partes_del_dia_iguales^¬parte_del_dia_texto_mayor'"
      ]
     },
     "execution_count": 11,
     "metadata": {},
     "output_type": "execute_result"
    }
   ],
   "source": [
    "razonamiento.respuesta_perceptron()"
   ]
  },
  {
   "cell_type": "code",
   "execution_count": 12,
   "id": "05a11ba2-7b2b-4f1a-a3c0-deaf7eee6368",
   "metadata": {},
   "outputs": [
    {
     "data": {
      "text/plain": [
       "'origen_de_vuelo'"
      ]
     },
     "execution_count": 12,
     "metadata": {},
     "output_type": "execute_result"
    }
   ],
   "source": [
    "razonamiento.consultar()"
   ]
  },
  {
   "cell_type": "code",
   "execution_count": 13,
   "id": "d6874c8e-41b3-40f7-8a74-d0172c86af03",
   "metadata": {},
   "outputs": [
    {
     "data": {
      "text/plain": [
       "'Estaba en bogotá'"
      ]
     },
     "execution_count": 13,
     "metadata": {},
     "output_type": "execute_result"
    }
   ],
   "source": [
    "razonamiento.respuesta()"
   ]
  },
  {
   "cell_type": "markdown",
   "id": "6dc44d17-bde9-47ec-b7db-438703480db8",
   "metadata": {
    "tags": []
   },
   "source": [
    "## Casos de Prueba"
   ]
  },
  {
   "cell_type": "markdown",
   "id": "42ed4a82-8234-4e35-b77e-d60ace7f7994",
   "metadata": {
    "tags": []
   },
   "source": [
    "### Caso 1"
   ]
  },
  {
   "cell_type": "code",
   "execution_count": 14,
   "id": "2a4c61c7-09eb-4f6f-a0b3-59d70d949415",
   "metadata": {},
   "outputs": [],
   "source": [
    "texto = \"Juan, quien siempre lleva su laptop consigo, tomó un vuelo de Bogotá a Medellı́n en la mañana del 11 de diciembre.\""
   ]
  },
  {
   "cell_type": "code",
   "execution_count": 15,
   "id": "255f2358-5bc8-487a-8d1d-7f4920cd7e30",
   "metadata": {},
   "outputs": [],
   "source": [
    "pregunta = \"¿En qué ciudad está el laptop de Juan la noche del 10 de diciembre?\""
   ]
  },
  {
   "cell_type": "code",
   "execution_count": 16,
   "id": "8f7f448b-df14-40eb-b8e8-2d7cff29ce15",
   "metadata": {},
   "outputs": [
    {
     "data": {
      "text/plain": [
       "'Estaba en bogotá'"
      ]
     },
     "execution_count": 16,
     "metadata": {},
     "output_type": "execute_result"
    }
   ],
   "source": [
    "razonamiento.entrada = (texto,pregunta)\n",
    "razonamiento.consulta = razonamiento.respuesta_perceptron()\n",
    "razonamiento.respuesta()"
   ]
  },
  {
   "cell_type": "markdown",
   "id": "867f3346-7ba5-41dc-8b72-2a3e0362c0af",
   "metadata": {
    "tags": []
   },
   "source": [
    "### Caso 2"
   ]
  },
  {
   "cell_type": "code",
   "execution_count": 17,
   "id": "915fa19b-6521-4b33-bb21-ee759b4d1501",
   "metadata": {},
   "outputs": [],
   "source": [
    "texto = \"Juan, quien siempre lleva su laptop consigo, tomó un vuelo de Bogotá a Medellı́n en la mañana del 11 de diciembre.\""
   ]
  },
  {
   "cell_type": "code",
   "execution_count": 18,
   "id": "ee5c05b7-00e6-4e0d-85a6-5f68f71fcf77",
   "metadata": {},
   "outputs": [],
   "source": [
    "pregunta = \"¿En qué ciudad está el laptop de Juan la noche del 11 de diciembre?\""
   ]
  },
  {
   "cell_type": "code",
   "execution_count": 19,
   "id": "e4a1f93c-3112-4379-9d29-0d8b49870483",
   "metadata": {},
   "outputs": [
    {
     "data": {
      "text/plain": [
       "'Estaba en medellı́n'"
      ]
     },
     "execution_count": 19,
     "metadata": {},
     "output_type": "execute_result"
    }
   ],
   "source": [
    "razonamiento.entrada = (texto,pregunta)\n",
    "razonamiento.consulta = razonamiento.respuesta_perceptron()\n",
    "razonamiento.respuesta()"
   ]
  },
  {
   "cell_type": "markdown",
   "id": "d322b24e-f9fe-43aa-a102-f7d589f0f165",
   "metadata": {
    "tags": []
   },
   "source": [
    "## Interfaz de prueba"
   ]
  },
  {
   "cell_type": "code",
   "execution_count": null,
   "id": "6007b2f7-91be-4289-b78b-193ef8d5a5b2",
   "metadata": {},
   "outputs": [],
   "source": [
    "texto = str(input(\"Ingresar texto a evaluar\"))"
   ]
  },
  {
   "cell_type": "code",
   "execution_count": null,
   "id": "41101b7c-217b-4b95-b941-e632e285427f",
   "metadata": {},
   "outputs": [],
   "source": [
    "preguta = str(input(\"Ingresar pregunta\"))"
   ]
  },
  {
   "cell_type": "code",
   "execution_count": null,
   "id": "c338f5d5-bc95-4010-afbd-a9d27724d001",
   "metadata": {},
   "outputs": [],
   "source": [
    "razonamiento.entrada = (texto,pregunta)\n",
    "razonamiento.consulta = razonamiento.respuesta_perceptron()\n",
    "razonamiento.respuesta()"
   ]
  }
 ],
 "metadata": {
  "kernelspec": {
   "display_name": "Python 3 (ipykernel)",
   "language": "python",
   "name": "python3"
  },
  "language_info": {
   "codemirror_mode": {
    "name": "ipython",
    "version": 3
   },
   "file_extension": ".py",
   "mimetype": "text/x-python",
   "name": "python",
   "nbconvert_exporter": "python",
   "pygments_lexer": "ipython3",
   "version": "3.8.10"
  }
 },
 "nbformat": 4,
 "nbformat_minor": 5
}
